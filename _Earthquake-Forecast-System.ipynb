{
 "cells": [
  {
   "cell_type": "markdown",
   "metadata": {},
   "source": [
    "# Earth Quake Forecast System"
   ]
  },
  {
   "cell_type": "code",
   "execution_count": 70,
   "metadata": {},
   "outputs": [],
   "source": [
    "#   Add libraries\n",
    "import os\n",
    "import pandas as pd\n",
    "import numpy as np\n",
    "import seaborn as sns\n",
    "from sklearn.model_selection import validation_curve\n",
    "import matplotlib.pyplot as plt\n",
    "%matplotlib inline"
   ]
  },
  {
   "cell_type": "markdown",
   "metadata": {},
   "source": [
    "## Dataset"
   ]
  },
  {
   "cell_type": "markdown",
   "metadata": {},
   "source": [
    "1911 - 2017 Earthquake Data"
   ]
  },
  {
   "cell_type": "code",
   "execution_count": 71,
   "metadata": {},
   "outputs": [],
   "source": [
    "#   Read csv file(data) \n",
    "data = pd.read_csv('/home/iremnazcay/data/titanic/randomDataset.csv')"
   ]
  },
  {
   "cell_type": "code",
   "execution_count": 72,
   "metadata": {},
   "outputs": [
    {
     "data": {
      "text/html": [
       "<div>\n",
       "<style scoped>\n",
       "    .dataframe tbody tr th:only-of-type {\n",
       "        vertical-align: middle;\n",
       "    }\n",
       "\n",
       "    .dataframe tbody tr th {\n",
       "        vertical-align: top;\n",
       "    }\n",
       "\n",
       "    .dataframe thead th {\n",
       "        text-align: right;\n",
       "    }\n",
       "</style>\n",
       "<table border=\"1\" class=\"dataframe\">\n",
       "  <thead>\n",
       "    <tr style=\"text-align: right;\">\n",
       "      <th></th>\n",
       "      <th>No</th>\n",
       "      <th>Tarih</th>\n",
       "      <th>Zaman</th>\n",
       "      <th>Enlem</th>\n",
       "      <th>Boylam</th>\n",
       "      <th>Der</th>\n",
       "      <th>ML</th>\n",
       "      <th>Yer</th>\n",
       "    </tr>\n",
       "  </thead>\n",
       "  <tbody>\n",
       "    <tr>\n",
       "      <th>0</th>\n",
       "      <td>4525</td>\n",
       "      <td>2010.10.29</td>\n",
       "      <td>06:32:41.23</td>\n",
       "      <td>40.3212</td>\n",
       "      <td>25.8650</td>\n",
       "      <td>13.1</td>\n",
       "      <td>4.1</td>\n",
       "      <td>KALEKOY-GOKCEADA (ÇANAKKALE) [North West  10.3 k</td>\n",
       "    </tr>\n",
       "    <tr>\n",
       "      <th>1</th>\n",
       "      <td>8941</td>\n",
       "      <td>2002.10.16</td>\n",
       "      <td>23:14:20.90</td>\n",
       "      <td>36.1300</td>\n",
       "      <td>28.3600</td>\n",
       "      <td>14.0</td>\n",
       "      <td>0.0</td>\n",
       "      <td>KDENIZ</td>\n",
       "    </tr>\n",
       "    <tr>\n",
       "      <th>2</th>\n",
       "      <td>1897</td>\n",
       "      <td>2014.07.30</td>\n",
       "      <td>00:55:04.68</td>\n",
       "      <td>38.0610</td>\n",
       "      <td>24.0573</td>\n",
       "      <td>15.6</td>\n",
       "      <td>3.5</td>\n",
       "      <td>YUNANISTAN</td>\n",
       "    </tr>\n",
       "    <tr>\n",
       "      <th>3</th>\n",
       "      <td>13179</td>\n",
       "      <td>1991.09.03</td>\n",
       "      <td>04:38:39.20</td>\n",
       "      <td>36.1800</td>\n",
       "      <td>31.8100</td>\n",
       "      <td>113.0</td>\n",
       "      <td>0.0</td>\n",
       "      <td>NTALYA KÖRFEZI (AKDENIZ)</td>\n",
       "    </tr>\n",
       "    <tr>\n",
       "      <th>4</th>\n",
       "      <td>21548</td>\n",
       "      <td>1969.03.23</td>\n",
       "      <td>21:11:02.50</td>\n",
       "      <td>37.9000</td>\n",
       "      <td>27.6000</td>\n",
       "      <td>5.0</td>\n",
       "      <td>0.0</td>\n",
       "      <td>DAGKARAAGAC-GERMENCIK (AYDIN) [South West  0.7 k</td>\n",
       "    </tr>\n",
       "  </tbody>\n",
       "</table>\n",
       "</div>"
      ],
      "text/plain": [
       "      No       Tarih        Zaman    Enlem   Boylam    Der   ML  \\\n",
       "0   4525  2010.10.29  06:32:41.23  40.3212  25.8650   13.1  4.1   \n",
       "1   8941  2002.10.16  23:14:20.90  36.1300  28.3600   14.0  0.0   \n",
       "2   1897  2014.07.30  00:55:04.68  38.0610  24.0573   15.6  3.5   \n",
       "3  13179  1991.09.03  04:38:39.20  36.1800  31.8100  113.0  0.0   \n",
       "4  21548  1969.03.23  21:11:02.50  37.9000  27.6000    5.0  0.0   \n",
       "\n",
       "                                                Yer  \n",
       "0  KALEKOY-GOKCEADA (ÇANAKKALE) [North West  10.3 k  \n",
       "1                                            KDENIZ  \n",
       "2                                        YUNANISTAN  \n",
       "3                          NTALYA KÖRFEZI (AKDENIZ)  \n",
       "4  DAGKARAAGAC-GERMENCIK (AYDIN) [South West  0.7 k  "
      ]
     },
     "execution_count": 72,
     "metadata": {},
     "output_type": "execute_result"
    }
   ],
   "source": [
    "data.head()"
   ]
  },
  {
   "cell_type": "code",
   "execution_count": 73,
   "metadata": {},
   "outputs": [],
   "source": [
    "data['Latitude']=data['Enlem']\n",
    "data['Longitude']=data['Boylam']\n",
    "data['Depth']=data['Der']"
   ]
  },
  {
   "cell_type": "code",
   "execution_count": 74,
   "metadata": {},
   "outputs": [],
   "source": [
    "data= data.drop('Enlem', axis=1)\n",
    "data= data.drop('Boylam', axis=1)\n",
    "data= data.drop('Der', axis=1)"
   ]
  },
  {
   "cell_type": "code",
   "execution_count": 75,
   "metadata": {},
   "outputs": [],
   "source": [
    "data['Magnitude']=data['ML']\n",
    "data['Degree'] = data['Magnitude']"
   ]
  },
  {
   "cell_type": "code",
   "execution_count": 76,
   "metadata": {},
   "outputs": [],
   "source": [
    "data= data.drop('ML', axis=1)"
   ]
  },
  {
   "cell_type": "code",
   "execution_count": 77,
   "metadata": {},
   "outputs": [
    {
     "data": {
      "text/html": [
       "<div>\n",
       "<style scoped>\n",
       "    .dataframe tbody tr th:only-of-type {\n",
       "        vertical-align: middle;\n",
       "    }\n",
       "\n",
       "    .dataframe tbody tr th {\n",
       "        vertical-align: top;\n",
       "    }\n",
       "\n",
       "    .dataframe thead th {\n",
       "        text-align: right;\n",
       "    }\n",
       "</style>\n",
       "<table border=\"1\" class=\"dataframe\">\n",
       "  <thead>\n",
       "    <tr style=\"text-align: right;\">\n",
       "      <th></th>\n",
       "      <th>No</th>\n",
       "      <th>Tarih</th>\n",
       "      <th>Zaman</th>\n",
       "      <th>Yer</th>\n",
       "      <th>Latitude</th>\n",
       "      <th>Longitude</th>\n",
       "      <th>Depth</th>\n",
       "      <th>Magnitude</th>\n",
       "      <th>Degree</th>\n",
       "    </tr>\n",
       "  </thead>\n",
       "  <tbody>\n",
       "    <tr>\n",
       "      <th>0</th>\n",
       "      <td>4525</td>\n",
       "      <td>2010.10.29</td>\n",
       "      <td>06:32:41.23</td>\n",
       "      <td>KALEKOY-GOKCEADA (ÇANAKKALE) [North West  10.3 k</td>\n",
       "      <td>40.3212</td>\n",
       "      <td>25.8650</td>\n",
       "      <td>13.1</td>\n",
       "      <td>4.1</td>\n",
       "      <td>4.1</td>\n",
       "    </tr>\n",
       "    <tr>\n",
       "      <th>1</th>\n",
       "      <td>8941</td>\n",
       "      <td>2002.10.16</td>\n",
       "      <td>23:14:20.90</td>\n",
       "      <td>KDENIZ</td>\n",
       "      <td>36.1300</td>\n",
       "      <td>28.3600</td>\n",
       "      <td>14.0</td>\n",
       "      <td>0.0</td>\n",
       "      <td>0.0</td>\n",
       "    </tr>\n",
       "    <tr>\n",
       "      <th>2</th>\n",
       "      <td>1897</td>\n",
       "      <td>2014.07.30</td>\n",
       "      <td>00:55:04.68</td>\n",
       "      <td>YUNANISTAN</td>\n",
       "      <td>38.0610</td>\n",
       "      <td>24.0573</td>\n",
       "      <td>15.6</td>\n",
       "      <td>3.5</td>\n",
       "      <td>3.5</td>\n",
       "    </tr>\n",
       "    <tr>\n",
       "      <th>3</th>\n",
       "      <td>13179</td>\n",
       "      <td>1991.09.03</td>\n",
       "      <td>04:38:39.20</td>\n",
       "      <td>NTALYA KÖRFEZI (AKDENIZ)</td>\n",
       "      <td>36.1800</td>\n",
       "      <td>31.8100</td>\n",
       "      <td>113.0</td>\n",
       "      <td>0.0</td>\n",
       "      <td>0.0</td>\n",
       "    </tr>\n",
       "    <tr>\n",
       "      <th>4</th>\n",
       "      <td>21548</td>\n",
       "      <td>1969.03.23</td>\n",
       "      <td>21:11:02.50</td>\n",
       "      <td>DAGKARAAGAC-GERMENCIK (AYDIN) [South West  0.7 k</td>\n",
       "      <td>37.9000</td>\n",
       "      <td>27.6000</td>\n",
       "      <td>5.0</td>\n",
       "      <td>0.0</td>\n",
       "      <td>0.0</td>\n",
       "    </tr>\n",
       "  </tbody>\n",
       "</table>\n",
       "</div>"
      ],
      "text/plain": [
       "      No       Tarih        Zaman  \\\n",
       "0   4525  2010.10.29  06:32:41.23   \n",
       "1   8941  2002.10.16  23:14:20.90   \n",
       "2   1897  2014.07.30  00:55:04.68   \n",
       "3  13179  1991.09.03  04:38:39.20   \n",
       "4  21548  1969.03.23  21:11:02.50   \n",
       "\n",
       "                                                Yer  Latitude  Longitude  \\\n",
       "0  KALEKOY-GOKCEADA (ÇANAKKALE) [North West  10.3 k   40.3212    25.8650   \n",
       "1                                            KDENIZ   36.1300    28.3600   \n",
       "2                                        YUNANISTAN   38.0610    24.0573   \n",
       "3                          NTALYA KÖRFEZI (AKDENIZ)   36.1800    31.8100   \n",
       "4  DAGKARAAGAC-GERMENCIK (AYDIN) [South West  0.7 k   37.9000    27.6000   \n",
       "\n",
       "   Depth  Magnitude  Degree  \n",
       "0   13.1        4.1     4.1  \n",
       "1   14.0        0.0     0.0  \n",
       "2   15.6        3.5     3.5  \n",
       "3  113.0        0.0     0.0  \n",
       "4    5.0        0.0     0.0  "
      ]
     },
     "execution_count": 77,
     "metadata": {},
     "output_type": "execute_result"
    }
   ],
   "source": [
    "data.head()"
   ]
  },
  {
   "cell_type": "code",
   "execution_count": 78,
   "metadata": {},
   "outputs": [],
   "source": [
    "data['Tarih']=pd.to_datetime(data['Tarih'])"
   ]
  },
  {
   "cell_type": "code",
   "execution_count": 79,
   "metadata": {},
   "outputs": [
    {
     "data": {
      "text/html": [
       "<div>\n",
       "<style scoped>\n",
       "    .dataframe tbody tr th:only-of-type {\n",
       "        vertical-align: middle;\n",
       "    }\n",
       "\n",
       "    .dataframe tbody tr th {\n",
       "        vertical-align: top;\n",
       "    }\n",
       "\n",
       "    .dataframe thead th {\n",
       "        text-align: right;\n",
       "    }\n",
       "</style>\n",
       "<table border=\"1\" class=\"dataframe\">\n",
       "  <thead>\n",
       "    <tr style=\"text-align: right;\">\n",
       "      <th></th>\n",
       "      <th>No</th>\n",
       "      <th>Tarih</th>\n",
       "      <th>Zaman</th>\n",
       "      <th>Yer</th>\n",
       "      <th>Latitude</th>\n",
       "      <th>Longitude</th>\n",
       "      <th>Depth</th>\n",
       "      <th>Magnitude</th>\n",
       "      <th>Degree</th>\n",
       "    </tr>\n",
       "  </thead>\n",
       "  <tbody>\n",
       "    <tr>\n",
       "      <th>0</th>\n",
       "      <td>4525</td>\n",
       "      <td>2010-10-29</td>\n",
       "      <td>06:32:41.23</td>\n",
       "      <td>KALEKOY-GOKCEADA (ÇANAKKALE) [North West  10.3 k</td>\n",
       "      <td>40.3212</td>\n",
       "      <td>25.8650</td>\n",
       "      <td>13.1</td>\n",
       "      <td>4.1</td>\n",
       "      <td>4.1</td>\n",
       "    </tr>\n",
       "    <tr>\n",
       "      <th>1</th>\n",
       "      <td>8941</td>\n",
       "      <td>2002-10-16</td>\n",
       "      <td>23:14:20.90</td>\n",
       "      <td>KDENIZ</td>\n",
       "      <td>36.1300</td>\n",
       "      <td>28.3600</td>\n",
       "      <td>14.0</td>\n",
       "      <td>0.0</td>\n",
       "      <td>0.0</td>\n",
       "    </tr>\n",
       "    <tr>\n",
       "      <th>2</th>\n",
       "      <td>1897</td>\n",
       "      <td>2014-07-30</td>\n",
       "      <td>00:55:04.68</td>\n",
       "      <td>YUNANISTAN</td>\n",
       "      <td>38.0610</td>\n",
       "      <td>24.0573</td>\n",
       "      <td>15.6</td>\n",
       "      <td>3.5</td>\n",
       "      <td>3.5</td>\n",
       "    </tr>\n",
       "    <tr>\n",
       "      <th>3</th>\n",
       "      <td>13179</td>\n",
       "      <td>1991-09-03</td>\n",
       "      <td>04:38:39.20</td>\n",
       "      <td>NTALYA KÖRFEZI (AKDENIZ)</td>\n",
       "      <td>36.1800</td>\n",
       "      <td>31.8100</td>\n",
       "      <td>113.0</td>\n",
       "      <td>0.0</td>\n",
       "      <td>0.0</td>\n",
       "    </tr>\n",
       "    <tr>\n",
       "      <th>4</th>\n",
       "      <td>21548</td>\n",
       "      <td>1969-03-23</td>\n",
       "      <td>21:11:02.50</td>\n",
       "      <td>DAGKARAAGAC-GERMENCIK (AYDIN) [South West  0.7 k</td>\n",
       "      <td>37.9000</td>\n",
       "      <td>27.6000</td>\n",
       "      <td>5.0</td>\n",
       "      <td>0.0</td>\n",
       "      <td>0.0</td>\n",
       "    </tr>\n",
       "  </tbody>\n",
       "</table>\n",
       "</div>"
      ],
      "text/plain": [
       "      No      Tarih        Zaman  \\\n",
       "0   4525 2010-10-29  06:32:41.23   \n",
       "1   8941 2002-10-16  23:14:20.90   \n",
       "2   1897 2014-07-30  00:55:04.68   \n",
       "3  13179 1991-09-03  04:38:39.20   \n",
       "4  21548 1969-03-23  21:11:02.50   \n",
       "\n",
       "                                                Yer  Latitude  Longitude  \\\n",
       "0  KALEKOY-GOKCEADA (ÇANAKKALE) [North West  10.3 k   40.3212    25.8650   \n",
       "1                                            KDENIZ   36.1300    28.3600   \n",
       "2                                        YUNANISTAN   38.0610    24.0573   \n",
       "3                          NTALYA KÖRFEZI (AKDENIZ)   36.1800    31.8100   \n",
       "4  DAGKARAAGAC-GERMENCIK (AYDIN) [South West  0.7 k   37.9000    27.6000   \n",
       "\n",
       "   Depth  Magnitude  Degree  \n",
       "0   13.1        4.1     4.1  \n",
       "1   14.0        0.0     0.0  \n",
       "2   15.6        3.5     3.5  \n",
       "3  113.0        0.0     0.0  \n",
       "4    5.0        0.0     0.0  "
      ]
     },
     "execution_count": 79,
     "metadata": {},
     "output_type": "execute_result"
    }
   ],
   "source": [
    "data.head()"
   ]
  },
  {
   "cell_type": "code",
   "execution_count": 80,
   "metadata": {},
   "outputs": [
    {
     "data": {
      "text/plain": [
       "0.0"
      ]
     },
     "execution_count": 80,
     "metadata": {},
     "output_type": "execute_result"
    }
   ],
   "source": [
    "data['Magnitude'].min()"
   ]
  },
  {
   "cell_type": "code",
   "execution_count": 81,
   "metadata": {},
   "outputs": [],
   "source": [
    "# Delete rows which 'Magnitude < 0.49'\n",
    "data.drop( data[ data['Magnitude']  < 0.49 ].index , inplace=True)"
   ]
  },
  {
   "cell_type": "code",
   "execution_count": 82,
   "metadata": {},
   "outputs": [
    {
     "data": {
      "text/plain": [
       "0.5"
      ]
     },
     "execution_count": 82,
     "metadata": {},
     "output_type": "execute_result"
    }
   ],
   "source": [
    "data['Magnitude'].min()"
   ]
  },
  {
   "cell_type": "code",
   "execution_count": 83,
   "metadata": {},
   "outputs": [
    {
     "data": {
      "text/plain": [
       "7.2"
      ]
     },
     "execution_count": 83,
     "metadata": {},
     "output_type": "execute_result"
    }
   ],
   "source": [
    "data['Magnitude'].max()"
   ]
  },
  {
   "cell_type": "code",
   "execution_count": 84,
   "metadata": {},
   "outputs": [],
   "source": [
    "# Richter Scale and Class\n",
    "r = [0.49, 3.5, 4.3, 5.3, 6.5, 7.5]\n",
    "g = ['Small','Moderate','Medium','Great','Super']\n",
    "\n",
    "data['Degree'] = pd.cut(data['Degree'], bins=r, labels=g)"
   ]
  },
  {
   "cell_type": "code",
   "execution_count": 85,
   "metadata": {},
   "outputs": [
    {
     "data": {
      "text/plain": [
       "Moderate    4515\n",
       "Small       3749\n",
       "Medium      2801\n",
       "Great        309\n",
       "Super         24\n",
       "Name: Degree, dtype: int64"
      ]
     },
     "execution_count": 85,
     "metadata": {},
     "output_type": "execute_result"
    }
   ],
   "source": [
    "data['Degree'].value_counts()"
   ]
  },
  {
   "cell_type": "code",
   "execution_count": 86,
   "metadata": {},
   "outputs": [
    {
     "name": "stdout",
     "output_type": "stream",
     "text": [
      "<class 'pandas.core.frame.DataFrame'>\n",
      "Int64Index: 11398 entries, 0 to 24002\n",
      "Data columns (total 9 columns):\n",
      "No           11398 non-null int64\n",
      "Tarih        11398 non-null datetime64[ns]\n",
      "Zaman        11398 non-null object\n",
      "Yer          11398 non-null object\n",
      "Latitude     11398 non-null float64\n",
      "Longitude    11398 non-null float64\n",
      "Depth        11398 non-null float64\n",
      "Magnitude    11398 non-null float64\n",
      "Degree       11398 non-null category\n",
      "dtypes: category(1), datetime64[ns](1), float64(4), int64(1), object(2)\n",
      "memory usage: 812.7+ KB\n"
     ]
    }
   ],
   "source": [
    "data.info()"
   ]
  },
  {
   "cell_type": "code",
   "execution_count": 87,
   "metadata": {},
   "outputs": [
    {
     "data": {
      "text/plain": [
       "Degree\n",
       "Small       1.555695\n",
       "Moderate    3.891561\n",
       "Medium      4.756587\n",
       "Great       5.714887\n",
       "Super       6.745833\n",
       "Name: Magnitude, dtype: float64"
      ]
     },
     "execution_count": 87,
     "metadata": {},
     "output_type": "execute_result"
    }
   ],
   "source": [
    "data['Magnitude'].groupby(data['Degree']).mean()"
   ]
  },
  {
   "cell_type": "code",
   "execution_count": 88,
   "metadata": {},
   "outputs": [],
   "source": [
    "# Reset the index range and add new range\n",
    "data.reset_index(inplace=True)\n",
    "data.index = pd.RangeIndex(start=0, stop=11398 , step=1)"
   ]
  },
  {
   "cell_type": "code",
   "execution_count": 89,
   "metadata": {},
   "outputs": [
    {
     "name": "stdout",
     "output_type": "stream",
     "text": [
      "<class 'pandas.core.frame.DataFrame'>\n",
      "RangeIndex: 11398 entries, 0 to 11397\n",
      "Data columns (total 10 columns):\n",
      "index        11398 non-null int64\n",
      "No           11398 non-null int64\n",
      "Tarih        11398 non-null datetime64[ns]\n",
      "Zaman        11398 non-null object\n",
      "Yer          11398 non-null object\n",
      "Latitude     11398 non-null float64\n",
      "Longitude    11398 non-null float64\n",
      "Depth        11398 non-null float64\n",
      "Magnitude    11398 non-null float64\n",
      "Degree       11398 non-null category\n",
      "dtypes: category(1), datetime64[ns](1), float64(4), int64(2), object(2)\n",
      "memory usage: 812.8+ KB\n"
     ]
    }
   ],
   "source": [
    "data.info()"
   ]
  },
  {
   "cell_type": "markdown",
   "metadata": {},
   "source": [
    "## Create Training and Test Sets"
   ]
  },
  {
   "cell_type": "code",
   "execution_count": 90,
   "metadata": {},
   "outputs": [],
   "source": [
    "# Seperate dataset as training and test %30 - % 70\n",
    "train= data.iloc[:7979, :]\n",
    "test= data.iloc[7979:11398 ,:]\n",
    "test_test=test.copy()"
   ]
  },
  {
   "cell_type": "code",
   "execution_count": 91,
   "metadata": {},
   "outputs": [
    {
     "data": {
      "text/html": [
       "<div>\n",
       "<style scoped>\n",
       "    .dataframe tbody tr th:only-of-type {\n",
       "        vertical-align: middle;\n",
       "    }\n",
       "\n",
       "    .dataframe tbody tr th {\n",
       "        vertical-align: top;\n",
       "    }\n",
       "\n",
       "    .dataframe thead th {\n",
       "        text-align: right;\n",
       "    }\n",
       "</style>\n",
       "<table border=\"1\" class=\"dataframe\">\n",
       "  <thead>\n",
       "    <tr style=\"text-align: right;\">\n",
       "      <th></th>\n",
       "      <th>index</th>\n",
       "      <th>No</th>\n",
       "      <th>Tarih</th>\n",
       "      <th>Zaman</th>\n",
       "      <th>Yer</th>\n",
       "      <th>Latitude</th>\n",
       "      <th>Longitude</th>\n",
       "      <th>Depth</th>\n",
       "      <th>Magnitude</th>\n",
       "      <th>Degree</th>\n",
       "    </tr>\n",
       "  </thead>\n",
       "  <tbody>\n",
       "    <tr>\n",
       "      <th>0</th>\n",
       "      <td>0</td>\n",
       "      <td>4525</td>\n",
       "      <td>2010-10-29</td>\n",
       "      <td>06:32:41.23</td>\n",
       "      <td>KALEKOY-GOKCEADA (ÇANAKKALE) [North West  10.3 k</td>\n",
       "      <td>40.3212</td>\n",
       "      <td>25.8650</td>\n",
       "      <td>13.1</td>\n",
       "      <td>4.1</td>\n",
       "      <td>Moderate</td>\n",
       "    </tr>\n",
       "    <tr>\n",
       "      <th>1</th>\n",
       "      <td>2</td>\n",
       "      <td>1897</td>\n",
       "      <td>2014-07-30</td>\n",
       "      <td>00:55:04.68</td>\n",
       "      <td>YUNANISTAN</td>\n",
       "      <td>38.0610</td>\n",
       "      <td>24.0573</td>\n",
       "      <td>15.6</td>\n",
       "      <td>3.5</td>\n",
       "      <td>Small</td>\n",
       "    </tr>\n",
       "    <tr>\n",
       "      <th>2</th>\n",
       "      <td>6</td>\n",
       "      <td>2220</td>\n",
       "      <td>2014-01-14</td>\n",
       "      <td>16:14:42.43</td>\n",
       "      <td>GUNLUCE-ODEMIS (IZMIR) [North West  1.0 km]</td>\n",
       "      <td>38.2778</td>\n",
       "      <td>27.9448</td>\n",
       "      <td>9.8</td>\n",
       "      <td>3.6</td>\n",
       "      <td>Moderate</td>\n",
       "    </tr>\n",
       "    <tr>\n",
       "      <th>3</th>\n",
       "      <td>10</td>\n",
       "      <td>470</td>\n",
       "      <td>2017-02-15</td>\n",
       "      <td>07:36:42.23</td>\n",
       "      <td>AKDENIZ</td>\n",
       "      <td>36.3077</td>\n",
       "      <td>26.7273</td>\n",
       "      <td>130.5</td>\n",
       "      <td>3.5</td>\n",
       "      <td>Small</td>\n",
       "    </tr>\n",
       "    <tr>\n",
       "      <th>4</th>\n",
       "      <td>11</td>\n",
       "      <td>2777</td>\n",
       "      <td>2013-01-26</td>\n",
       "      <td>18:23:41.36</td>\n",
       "      <td>CITOREN- (VAN) [North West  3.1 km]</td>\n",
       "      <td>38.6090</td>\n",
       "      <td>43.1857</td>\n",
       "      <td>3.1</td>\n",
       "      <td>3.5</td>\n",
       "      <td>Small</td>\n",
       "    </tr>\n",
       "  </tbody>\n",
       "</table>\n",
       "</div>"
      ],
      "text/plain": [
       "   index    No      Tarih        Zaman  \\\n",
       "0      0  4525 2010-10-29  06:32:41.23   \n",
       "1      2  1897 2014-07-30  00:55:04.68   \n",
       "2      6  2220 2014-01-14  16:14:42.43   \n",
       "3     10   470 2017-02-15  07:36:42.23   \n",
       "4     11  2777 2013-01-26  18:23:41.36   \n",
       "\n",
       "                                                Yer  Latitude  Longitude  \\\n",
       "0  KALEKOY-GOKCEADA (ÇANAKKALE) [North West  10.3 k   40.3212    25.8650   \n",
       "1                                        YUNANISTAN   38.0610    24.0573   \n",
       "2       GUNLUCE-ODEMIS (IZMIR) [North West  1.0 km]   38.2778    27.9448   \n",
       "3                                           AKDENIZ   36.3077    26.7273   \n",
       "4               CITOREN- (VAN) [North West  3.1 km]   38.6090    43.1857   \n",
       "\n",
       "   Depth  Magnitude    Degree  \n",
       "0   13.1        4.1  Moderate  \n",
       "1   15.6        3.5     Small  \n",
       "2    9.8        3.6  Moderate  \n",
       "3  130.5        3.5     Small  \n",
       "4    3.1        3.5     Small  "
      ]
     },
     "execution_count": 91,
     "metadata": {},
     "output_type": "execute_result"
    }
   ],
   "source": [
    "train.head()"
   ]
  },
  {
   "cell_type": "code",
   "execution_count": 92,
   "metadata": {},
   "outputs": [
    {
     "data": {
      "text/html": [
       "<div>\n",
       "<style scoped>\n",
       "    .dataframe tbody tr th:only-of-type {\n",
       "        vertical-align: middle;\n",
       "    }\n",
       "\n",
       "    .dataframe tbody tr th {\n",
       "        vertical-align: top;\n",
       "    }\n",
       "\n",
       "    .dataframe thead th {\n",
       "        text-align: right;\n",
       "    }\n",
       "</style>\n",
       "<table border=\"1\" class=\"dataframe\">\n",
       "  <thead>\n",
       "    <tr style=\"text-align: right;\">\n",
       "      <th></th>\n",
       "      <th>index</th>\n",
       "      <th>No</th>\n",
       "      <th>Tarih</th>\n",
       "      <th>Zaman</th>\n",
       "      <th>Yer</th>\n",
       "      <th>Latitude</th>\n",
       "      <th>Longitude</th>\n",
       "      <th>Depth</th>\n",
       "      <th>Magnitude</th>\n",
       "      <th>Degree</th>\n",
       "    </tr>\n",
       "  </thead>\n",
       "  <tbody>\n",
       "    <tr>\n",
       "      <th>7979</th>\n",
       "      <td>16633</td>\n",
       "      <td>6225</td>\n",
       "      <td>2007-10-21</td>\n",
       "      <td>11:15:24.77</td>\n",
       "      <td>KALEKOY-GOKCEADA (ÇANAKKALE) [North 16.6 km]</td>\n",
       "      <td>40.3793</td>\n",
       "      <td>25.8718</td>\n",
       "      <td>5.5</td>\n",
       "      <td>3.7</td>\n",
       "      <td>Moderate</td>\n",
       "    </tr>\n",
       "    <tr>\n",
       "      <th>7980</th>\n",
       "      <td>16634</td>\n",
       "      <td>6737</td>\n",
       "      <td>2006-10-24</td>\n",
       "      <td>03:39:35.10</td>\n",
       "      <td>AKDENIZ</td>\n",
       "      <td>34.9900</td>\n",
       "      <td>27.0100</td>\n",
       "      <td>69.0</td>\n",
       "      <td>4.7</td>\n",
       "      <td>Medium</td>\n",
       "    </tr>\n",
       "    <tr>\n",
       "      <th>7981</th>\n",
       "      <td>16638</td>\n",
       "      <td>21550</td>\n",
       "      <td>1969-03-23</td>\n",
       "      <td>03:50:58.00</td>\n",
       "      <td>GOLCUK-SINDIRGI (BALIKESIR) [South East  2.1 km]</td>\n",
       "      <td>39.3000</td>\n",
       "      <td>28.0000</td>\n",
       "      <td>10.0</td>\n",
       "      <td>4.3</td>\n",
       "      <td>Moderate</td>\n",
       "    </tr>\n",
       "    <tr>\n",
       "      <th>7982</th>\n",
       "      <td>16640</td>\n",
       "      <td>23910</td>\n",
       "      <td>1916-09-27</td>\n",
       "      <td>15:02:01.30</td>\n",
       "      <td>YUNANISTAN</td>\n",
       "      <td>38.8000</td>\n",
       "      <td>23.0000</td>\n",
       "      <td>6.0</td>\n",
       "      <td>5.5</td>\n",
       "      <td>Great</td>\n",
       "    </tr>\n",
       "    <tr>\n",
       "      <th>7983</th>\n",
       "      <td>16643</td>\n",
       "      <td>1410</td>\n",
       "      <td>2015-06-27</td>\n",
       "      <td>05:47:55.89</td>\n",
       "      <td>YAYLA-KOYCEGIZ (MUGLA) [  4.73 km]</td>\n",
       "      <td>37.0743</td>\n",
       "      <td>28.7652</td>\n",
       "      <td>5.0</td>\n",
       "      <td>3.7</td>\n",
       "      <td>Moderate</td>\n",
       "    </tr>\n",
       "  </tbody>\n",
       "</table>\n",
       "</div>"
      ],
      "text/plain": [
       "      index     No      Tarih        Zaman  \\\n",
       "7979  16633   6225 2007-10-21  11:15:24.77   \n",
       "7980  16634   6737 2006-10-24  03:39:35.10   \n",
       "7981  16638  21550 1969-03-23  03:50:58.00   \n",
       "7982  16640  23910 1916-09-27  15:02:01.30   \n",
       "7983  16643   1410 2015-06-27  05:47:55.89   \n",
       "\n",
       "                                                   Yer  Latitude  Longitude  \\\n",
       "7979      KALEKOY-GOKCEADA (ÇANAKKALE) [North 16.6 km]   40.3793    25.8718   \n",
       "7980                                           AKDENIZ   34.9900    27.0100   \n",
       "7981  GOLCUK-SINDIRGI (BALIKESIR) [South East  2.1 km]   39.3000    28.0000   \n",
       "7982                                        YUNANISTAN   38.8000    23.0000   \n",
       "7983                YAYLA-KOYCEGIZ (MUGLA) [  4.73 km]   37.0743    28.7652   \n",
       "\n",
       "      Depth  Magnitude    Degree  \n",
       "7979    5.5        3.7  Moderate  \n",
       "7980   69.0        4.7    Medium  \n",
       "7981   10.0        4.3  Moderate  \n",
       "7982    6.0        5.5     Great  \n",
       "7983    5.0        3.7  Moderate  "
      ]
     },
     "execution_count": 92,
     "metadata": {},
     "output_type": "execute_result"
    }
   ],
   "source": [
    "test.head()"
   ]
  },
  {
   "cell_type": "code",
   "execution_count": 93,
   "metadata": {},
   "outputs": [
    {
     "data": {
      "text/plain": [
       "Degree\n",
       "Small       1118\n",
       "Moderate    1370\n",
       "Medium       839\n",
       "Great         87\n",
       "Super          5\n",
       "Name: Magnitude, dtype: int64"
      ]
     },
     "execution_count": 93,
     "metadata": {},
     "output_type": "execute_result"
    }
   ],
   "source": [
    "test['Magnitude'].groupby(test['Degree']).size()"
   ]
  },
  {
   "cell_type": "code",
   "execution_count": 94,
   "metadata": {},
   "outputs": [
    {
     "data": {
      "text/plain": [
       "Degree\n",
       "Small       2631\n",
       "Moderate    3145\n",
       "Medium      1962\n",
       "Great        222\n",
       "Super         19\n",
       "Name: Magnitude, dtype: int64"
      ]
     },
     "execution_count": 94,
     "metadata": {},
     "output_type": "execute_result"
    }
   ],
   "source": [
    "train['Magnitude'].groupby(train['Degree']).size()"
   ]
  },
  {
   "cell_type": "code",
   "execution_count": 95,
   "metadata": {},
   "outputs": [
    {
     "data": {
      "text/plain": [
       "((7979, 10), (3419, 10))"
      ]
     },
     "execution_count": 95,
     "metadata": {},
     "output_type": "execute_result"
    }
   ],
   "source": [
    "train.shape, test.shape"
   ]
  },
  {
   "cell_type": "markdown",
   "metadata": {},
   "source": [
    "## Clear unnecessary tags from our dataset"
   ]
  },
  {
   "cell_type": "code",
   "execution_count": 96,
   "metadata": {},
   "outputs": [],
   "source": [
    "train.drop('index', axis=1, inplace=True)\n",
    "test.drop('index', axis=1, inplace=True)\n",
    "test_test.drop('index', axis=1, inplace=True)\n",
    "\n",
    "train.drop('No', axis=1, inplace=True)\n",
    "test.drop('No', axis=1, inplace=True)\n",
    "test_test.drop('No', axis=1, inplace=True)\n",
    "\n",
    "train.drop('Tarih', axis=1, inplace=True)\n",
    "test.drop('Tarih', axis=1, inplace=True)\n",
    "test_test.drop('Tarih', axis=1, inplace=True)\n",
    "\n",
    "train.drop('Zaman', axis=1, inplace=True)\n",
    "test.drop('Zaman', axis=1, inplace=True)\n",
    "test_test.drop('Zaman', axis=1, inplace=True)\n",
    "\n",
    "train.drop('Yer', axis=1, inplace=True)\n",
    "test.drop('Yer', axis=1, inplace=True)\n",
    "test_test.drop('Yer', axis=1, inplace=True)"
   ]
  },
  {
   "cell_type": "code",
   "execution_count": 97,
   "metadata": {},
   "outputs": [],
   "source": [
    "#   Clear Derece column in test set\n",
    "test.drop('Degree', axis=1, inplace=True)"
   ]
  },
  {
   "cell_type": "code",
   "execution_count": 98,
   "metadata": {
    "scrolled": true
   },
   "outputs": [
    {
     "name": "stdout",
     "output_type": "stream",
     "text": [
      "<class 'pandas.core.frame.DataFrame'>\n",
      "RangeIndex: 7979 entries, 0 to 7978\n",
      "Data columns (total 5 columns):\n",
      "Latitude     7979 non-null float64\n",
      "Longitude    7979 non-null float64\n",
      "Depth        7979 non-null float64\n",
      "Magnitude    7979 non-null float64\n",
      "Degree       7979 non-null category\n",
      "dtypes: category(1), float64(4)\n",
      "memory usage: 257.4 KB\n"
     ]
    }
   ],
   "source": [
    "train.info()"
   ]
  },
  {
   "cell_type": "code",
   "execution_count": 99,
   "metadata": {},
   "outputs": [
    {
     "name": "stdout",
     "output_type": "stream",
     "text": [
      "<class 'pandas.core.frame.DataFrame'>\n",
      "RangeIndex: 3419 entries, 7979 to 11397\n",
      "Data columns (total 4 columns):\n",
      "Latitude     3419 non-null float64\n",
      "Longitude    3419 non-null float64\n",
      "Depth        3419 non-null float64\n",
      "Magnitude    3419 non-null float64\n",
      "dtypes: float64(4)\n",
      "memory usage: 106.9 KB\n"
     ]
    }
   ],
   "source": [
    "test.info()"
   ]
  },
  {
   "cell_type": "code",
   "execution_count": 100,
   "metadata": {},
   "outputs": [
    {
     "name": "stdout",
     "output_type": "stream",
     "text": [
      "<class 'pandas.core.frame.DataFrame'>\n",
      "RangeIndex: 3419 entries, 7979 to 11397\n",
      "Data columns (total 5 columns):\n",
      "Latitude     3419 non-null float64\n",
      "Longitude    3419 non-null float64\n",
      "Depth        3419 non-null float64\n",
      "Magnitude    3419 non-null float64\n",
      "Degree       3419 non-null category\n",
      "dtypes: category(1), float64(4)\n",
      "memory usage: 110.5 KB\n"
     ]
    }
   ],
   "source": [
    "test_test.info()"
   ]
  },
  {
   "cell_type": "code",
   "execution_count": 101,
   "metadata": {},
   "outputs": [],
   "source": [
    "# Reset the index range and add new range\n",
    "test.reset_index(inplace=True)\n",
    "test.index = pd.RangeIndex(start=0, stop=3419  , step=1)"
   ]
  },
  {
   "cell_type": "code",
   "execution_count": 102,
   "metadata": {},
   "outputs": [],
   "source": [
    "# Reset the index range and add new range\n",
    "test_test.reset_index(inplace=True)\n",
    "test_test.index = pd.RangeIndex(start=0, stop=3419  , step=1)"
   ]
  },
  {
   "cell_type": "code",
   "execution_count": 103,
   "metadata": {},
   "outputs": [],
   "source": [
    "test.drop('index', axis=1, inplace=True)\n",
    "test_test.drop('index', axis=1, inplace=True)"
   ]
  },
  {
   "cell_type": "code",
   "execution_count": 104,
   "metadata": {},
   "outputs": [
    {
     "name": "stdout",
     "output_type": "stream",
     "text": [
      "<class 'pandas.core.frame.DataFrame'>\n",
      "RangeIndex: 3419 entries, 0 to 3418\n",
      "Data columns (total 4 columns):\n",
      "Latitude     3419 non-null float64\n",
      "Longitude    3419 non-null float64\n",
      "Depth        3419 non-null float64\n",
      "Magnitude    3419 non-null float64\n",
      "dtypes: float64(4)\n",
      "memory usage: 106.9 KB\n"
     ]
    }
   ],
   "source": [
    "test.info()"
   ]
  },
  {
   "cell_type": "code",
   "execution_count": 105,
   "metadata": {},
   "outputs": [
    {
     "name": "stdout",
     "output_type": "stream",
     "text": [
      "<class 'pandas.core.frame.DataFrame'>\n",
      "RangeIndex: 3419 entries, 0 to 3418\n",
      "Data columns (total 5 columns):\n",
      "Latitude     3419 non-null float64\n",
      "Longitude    3419 non-null float64\n",
      "Depth        3419 non-null float64\n",
      "Magnitude    3419 non-null float64\n",
      "Degree       3419 non-null category\n",
      "dtypes: category(1), float64(4)\n",
      "memory usage: 110.5 KB\n"
     ]
    }
   ],
   "source": [
    "test_test.info()"
   ]
  },
  {
   "cell_type": "markdown",
   "metadata": {},
   "source": [
    "## VISUALIZATION"
   ]
  },
  {
   "cell_type": "code",
   "execution_count": 106,
   "metadata": {},
   "outputs": [
    {
     "data": {
      "text/plain": [
       "<matplotlib.axes._subplots.AxesSubplot at 0x7f31af83c5f8>"
      ]
     },
     "execution_count": 106,
     "metadata": {},
     "output_type": "execute_result"
    },
    {
     "data": {
      "image/png": "[encoded data removed]",
      "text/plain": [
       "<Figure size 432x288 with 1 Axes>"
      ]
     },
     "metadata": {
      "needs_background": "light"
     },
     "output_type": "display_data"
    }
   ],
   "source": [
    "sns.countplot(train['Magnitude'])"
   ]
  },
  {
   "cell_type": "code",
   "execution_count": 107,
   "metadata": {},
   "outputs": [
    {
     "data": {
      "text/plain": [
       "<matplotlib.axes._subplots.AxesSubplot at 0x7f31af37eba8>"
      ]
     },
     "execution_count": 107,
     "metadata": {},
     "output_type": "execute_result"
    },
    {
     "data": {
      "image/png": "[encoded data removed]",
      "text/plain": [
       "<Figure size 432x288 with 1 Axes>"
      ]
     },
     "metadata": {
      "needs_background": "light"
     },
     "output_type": "display_data"
    }
   ],
   "source": [
    "sns.countplot(test['Magnitude'])"
   ]
  },
  {
   "cell_type": "code",
   "execution_count": 108,
   "metadata": {},
   "outputs": [
    {
     "data": {
      "text/plain": [
       "<matplotlib.axes._subplots.AxesSubplot at 0x7f31af225e80>"
      ]
     },
     "execution_count": 108,
     "metadata": {},
     "output_type": "execute_result"
    },
    {
     "data": {
      "image/png": "[encoded data removed]",
      "text/plain": [
       "<Figure size 432x288 with 1 Axes>"
      ]
     },
     "metadata": {},
     "output_type": "display_data"
    }
   ],
   "source": [
    "sns.set_style(\"whitegrid\") \n",
    "  \n",
    "sns.boxplot(x = 'Degree', y = 'Magnitude', data = train) "
   ]
  },
  {
   "cell_type": "code",
   "execution_count": 109,
   "metadata": {},
   "outputs": [
    {
     "data": {
      "text/plain": [
       "<matplotlib.axes._subplots.AxesSubplot at 0x7f31af1d4278>"
      ]
     },
     "execution_count": 109,
     "metadata": {},
     "output_type": "execute_result"
    },
    {
     "data": {
      "image/png": "[encoded data removed]",
      "text/plain": [
       "<Figure size 432x288 with 1 Axes>"
      ]
     },
     "metadata": {},
     "output_type": "display_data"
    }
   ],
   "source": [
    "sns.set_style(\"whitegrid\") \n",
    "  \n",
    "sns.boxplot(x = 'Degree', y = 'Magnitude', data = test_test)"
   ]
  },
  {
   "cell_type": "code",
   "execution_count": 110,
   "metadata": {},
   "outputs": [
    {
     "data": {
      "text/plain": [
       "Degree\n",
       "Small       2631\n",
       "Moderate    3145\n",
       "Medium      1962\n",
       "Great        222\n",
       "Super         19\n",
       "Name: Magnitude, dtype: int64"
      ]
     },
     "execution_count": 110,
     "metadata": {},
     "output_type": "execute_result"
    }
   ],
   "source": [
    "train['Magnitude'].groupby(train['Degree']).size()"
   ]
  },
  {
   "cell_type": "code",
   "execution_count": 111,
   "metadata": {},
   "outputs": [
    {
     "data": {
      "text/plain": [
       "Degree\n",
       "Small       1118\n",
       "Moderate    1370\n",
       "Medium       839\n",
       "Great         87\n",
       "Super          5\n",
       "Name: Magnitude, dtype: int64"
      ]
     },
     "execution_count": 111,
     "metadata": {},
     "output_type": "execute_result"
    }
   ],
   "source": [
    "test_test['Magnitude'].groupby(test_test['Degree']).size()"
   ]
  },
  {
   "cell_type": "code",
   "execution_count": 112,
   "metadata": {},
   "outputs": [],
   "source": [
    "def bar_chart(feature):\n",
    "    Small = train[train['Degree'] == 'Small'][feature].value_counts()\n",
    "    Moderate = train[train['Degree'] == 'Moderate'][feature].value_counts()\n",
    "    Medium = train[train['Degree'] == 'Medium'][feature].value_counts()\n",
    "    Great = train[train['Degree'] == 'Great'][feature].value_counts()\n",
    "    Super = train[train['Degree'] == 'Super'][feature].value_counts()\n",
    "    \n",
    "    df = pd.DataFrame([Small,Moderate,Medium, Great, Super])\n",
    "    df.index = ['Small','Moderate','Medium', 'Great', 'Super']\n",
    "    df.plot(kind='bar', stacked=True, figsize=(10,10))"
   ]
  },
  {
   "cell_type": "code",
   "execution_count": 113,
   "metadata": {},
   "outputs": [
    {
     "data": {
      "image/png": "[encoded data removed]",
      "text/plain": [
       "<Figure size 720x720 with 1 Axes>"
      ]
     },
     "metadata": {},
     "output_type": "display_data"
    }
   ],
   "source": [
    "bar_chart('Degree')"
   ]
  },
  {
   "cell_type": "code",
   "execution_count": 114,
   "metadata": {},
   "outputs": [],
   "source": [
    "def bar_chart(feature):\n",
    "    Small = test_test[test_test['Degree'] == 'Small'][feature].value_counts()\n",
    "    Moderate = test_test[test_test['Degree'] == 'Moderate'][feature].value_counts()\n",
    "    Medium = test_test[test_test['Degree'] == 'Medium'][feature].value_counts()\n",
    "    Great = test_test[test_test['Degree'] == 'Great'][feature].value_counts()\n",
    "    Super = test_test[test_test['Degree'] == 'Super'][feature].value_counts()\n",
    "    \n",
    "    df = pd.DataFrame([Small,Moderate,Medium, Great, Super])\n",
    "    df.index = ['Small','Moderate','Medium', 'Great', 'Super']\n",
    "    df.plot(kind='bar', stacked=True, figsize=(10,10))"
   ]
  },
  {
   "cell_type": "code",
   "execution_count": 115,
   "metadata": {},
   "outputs": [
    {
     "data": {
      "image/png": "[encoded data removed]",
      "text/plain": [
       "<Figure size 720x720 with 1 Axes>"
      ]
     },
     "metadata": {},
     "output_type": "display_data"
    }
   ],
   "source": [
    "bar_chart('Degree')"
   ]
  },
  {
   "cell_type": "code",
   "execution_count": 116,
   "metadata": {},
   "outputs": [
    {
     "name": "stderr",
     "output_type": "stream",
     "text": [
      "/home/iremnazcay/anaconda3/envs/my_python/lib/python3.7/site-packages/scipy/stats/stats.py:1713: FutureWarning: Using a non-tuple sequence for multidimensional indexing is deprecated; use `arr[tuple(seq)]` instead of `arr[seq]`. In the future this will be interpreted as an array index, `arr[np.array(seq)]`, which will result either in an error or a different result.\n",
      "  return np.add.reduce(sorted[indexer] * weights, axis=axis) / sumval\n"
     ]
    },
    {
     "data": {
      "text/plain": [
       "(0, 8)"
      ]
     },
     "execution_count": 116,
     "metadata": {},
     "output_type": "execute_result"
    },
    {
     "data": {
      "image/png": "[encoded data removed]",
      "text/plain": [
       "<Figure size 731.375x216 with 1 Axes>"
      ]
     },
     "metadata": {},
     "output_type": "display_data"
    }
   ],
   "source": [
    "facet = sns.FacetGrid(train,hue=\"Degree\",aspect=3)\n",
    "facet.map(sns.kdeplot,'Magnitude',shade=True)\n",
    "facet.add_legend()\n",
    "\n",
    "plt.xlim(0 ,8)"
   ]
  },
  {
   "cell_type": "code",
   "execution_count": 117,
   "metadata": {},
   "outputs": [
    {
     "data": {
      "text/plain": [
       "(0, 8)"
      ]
     },
     "execution_count": 117,
     "metadata": {},
     "output_type": "execute_result"
    },
    {
     "data": {
      "image/png": "[encoded data removed]",
      "text/plain": [
       "<Figure size 731.375x216 with 1 Axes>"
      ]
     },
     "metadata": {},
     "output_type": "display_data"
    }
   ],
   "source": [
    "facet = sns.FacetGrid(test_test,hue=\"Degree\",aspect=3)\n",
    "facet.map(sns.kdeplot,'Magnitude',shade=True)\n",
    "facet.add_legend()\n",
    "\n",
    "plt.xlim(0 ,8)"
   ]
  },
  {
   "cell_type": "markdown",
   "metadata": {},
   "source": [
    "## MODELLING"
   ]
  },
  {
   "cell_type": "code",
   "execution_count": 118,
   "metadata": {},
   "outputs": [
    {
     "data": {
      "text/plain": [
       "((7979, 4), (7979,))"
      ]
     },
     "execution_count": 118,
     "metadata": {},
     "output_type": "execute_result"
    }
   ],
   "source": [
    "# Creating feature matrix and target vector\n",
    "train_data = train.drop('Degree', axis=1)\n",
    "target = train['Degree'] #target has training data's degrees\n",
    "train_data.shape, target.shape"
   ]
  },
  {
   "cell_type": "code",
   "execution_count": 119,
   "metadata": {},
   "outputs": [
    {
     "data": {
      "text/html": [
       "<div>\n",
       "<style scoped>\n",
       "    .dataframe tbody tr th:only-of-type {\n",
       "        vertical-align: middle;\n",
       "    }\n",
       "\n",
       "    .dataframe tbody tr th {\n",
       "        vertical-align: top;\n",
       "    }\n",
       "\n",
       "    .dataframe thead th {\n",
       "        text-align: right;\n",
       "    }\n",
       "</style>\n",
       "<table border=\"1\" class=\"dataframe\">\n",
       "  <thead>\n",
       "    <tr style=\"text-align: right;\">\n",
       "      <th></th>\n",
       "      <th>Latitude</th>\n",
       "      <th>Longitude</th>\n",
       "      <th>Depth</th>\n",
       "      <th>Magnitude</th>\n",
       "    </tr>\n",
       "  </thead>\n",
       "  <tbody>\n",
       "    <tr>\n",
       "      <th>0</th>\n",
       "      <td>40.3212</td>\n",
       "      <td>25.8650</td>\n",
       "      <td>13.1</td>\n",
       "      <td>4.1</td>\n",
       "    </tr>\n",
       "    <tr>\n",
       "      <th>1</th>\n",
       "      <td>38.0610</td>\n",
       "      <td>24.0573</td>\n",
       "      <td>15.6</td>\n",
       "      <td>3.5</td>\n",
       "    </tr>\n",
       "    <tr>\n",
       "      <th>2</th>\n",
       "      <td>38.2778</td>\n",
       "      <td>27.9448</td>\n",
       "      <td>9.8</td>\n",
       "      <td>3.6</td>\n",
       "    </tr>\n",
       "    <tr>\n",
       "      <th>3</th>\n",
       "      <td>36.3077</td>\n",
       "      <td>26.7273</td>\n",
       "      <td>130.5</td>\n",
       "      <td>3.5</td>\n",
       "    </tr>\n",
       "    <tr>\n",
       "      <th>4</th>\n",
       "      <td>38.6090</td>\n",
       "      <td>43.1857</td>\n",
       "      <td>3.1</td>\n",
       "      <td>3.5</td>\n",
       "    </tr>\n",
       "  </tbody>\n",
       "</table>\n",
       "</div>"
      ],
      "text/plain": [
       "   Latitude  Longitude  Depth  Magnitude\n",
       "0   40.3212    25.8650   13.1        4.1\n",
       "1   38.0610    24.0573   15.6        3.5\n",
       "2   38.2778    27.9448    9.8        3.6\n",
       "3   36.3077    26.7273  130.5        3.5\n",
       "4   38.6090    43.1857    3.1        3.5"
      ]
     },
     "execution_count": 119,
     "metadata": {},
     "output_type": "execute_result"
    }
   ],
   "source": [
    "train_data.head()"
   ]
  },
  {
   "cell_type": "code",
   "execution_count": 120,
   "metadata": {},
   "outputs": [
    {
     "data": {
      "text/plain": [
       "0    Moderate\n",
       "1       Small\n",
       "2    Moderate\n",
       "3       Small\n",
       "4       Small\n",
       "Name: Degree, dtype: category\n",
       "Categories (5, object): [Small < Moderate < Medium < Great < Super]"
      ]
     },
     "execution_count": 120,
     "metadata": {},
     "output_type": "execute_result"
    }
   ],
   "source": [
    "target.head()"
   ]
  },
  {
   "cell_type": "code",
   "execution_count": 121,
   "metadata": {},
   "outputs": [
    {
     "name": "stderr",
     "output_type": "stream",
     "text": [
      "/home/iremnazcay/anaconda3/envs/my_python/lib/python3.7/site-packages/pandas/core/frame.py:3940: SettingWithCopyWarning: \n",
      "A value is trying to be set on a copy of a slice from a DataFrame\n",
      "\n",
      "See the caveats in the documentation: http://pandas.pydata.org/pandas-docs/stable/indexing.html#indexing-view-versus-copy\n",
      "  errors=errors)\n"
     ]
    }
   ],
   "source": [
    "train.drop('Magnitude', axis=1, inplace=True) # latitude, longitude, depth, degree\n",
    "test.drop('Magnitude', axis=1, inplace=True) # has only latitude, longitude and depth\n",
    "train_data.drop('Magnitude', axis=1, inplace=True) # has only latitude, longitude and depth\n",
    "\n",
    "#test_test.drop('Magnitude', axis=1, inplace=True) #daha sonra yazdırıcağım için kalıcak"
   ]
  },
  {
   "cell_type": "code",
   "execution_count": 122,
   "metadata": {},
   "outputs": [
    {
     "data": {
      "text/html": [
       "<div>\n",
       "<style scoped>\n",
       "    .dataframe tbody tr th:only-of-type {\n",
       "        vertical-align: middle;\n",
       "    }\n",
       "\n",
       "    .dataframe tbody tr th {\n",
       "        vertical-align: top;\n",
       "    }\n",
       "\n",
       "    .dataframe thead th {\n",
       "        text-align: right;\n",
       "    }\n",
       "</style>\n",
       "<table border=\"1\" class=\"dataframe\">\n",
       "  <thead>\n",
       "    <tr style=\"text-align: right;\">\n",
       "      <th></th>\n",
       "      <th>Latitude</th>\n",
       "      <th>Longitude</th>\n",
       "      <th>Depth</th>\n",
       "      <th>Degree</th>\n",
       "    </tr>\n",
       "  </thead>\n",
       "  <tbody>\n",
       "    <tr>\n",
       "      <th>0</th>\n",
       "      <td>40.3212</td>\n",
       "      <td>25.8650</td>\n",
       "      <td>13.1</td>\n",
       "      <td>Moderate</td>\n",
       "    </tr>\n",
       "    <tr>\n",
       "      <th>1</th>\n",
       "      <td>38.0610</td>\n",
       "      <td>24.0573</td>\n",
       "      <td>15.6</td>\n",
       "      <td>Small</td>\n",
       "    </tr>\n",
       "    <tr>\n",
       "      <th>2</th>\n",
       "      <td>38.2778</td>\n",
       "      <td>27.9448</td>\n",
       "      <td>9.8</td>\n",
       "      <td>Moderate</td>\n",
       "    </tr>\n",
       "    <tr>\n",
       "      <th>3</th>\n",
       "      <td>36.3077</td>\n",
       "      <td>26.7273</td>\n",
       "      <td>130.5</td>\n",
       "      <td>Small</td>\n",
       "    </tr>\n",
       "    <tr>\n",
       "      <th>4</th>\n",
       "      <td>38.6090</td>\n",
       "      <td>43.1857</td>\n",
       "      <td>3.1</td>\n",
       "      <td>Small</td>\n",
       "    </tr>\n",
       "  </tbody>\n",
       "</table>\n",
       "</div>"
      ],
      "text/plain": [
       "   Latitude  Longitude  Depth    Degree\n",
       "0   40.3212    25.8650   13.1  Moderate\n",
       "1   38.0610    24.0573   15.6     Small\n",
       "2   38.2778    27.9448    9.8  Moderate\n",
       "3   36.3077    26.7273  130.5     Small\n",
       "4   38.6090    43.1857    3.1     Small"
      ]
     },
     "execution_count": 122,
     "metadata": {},
     "output_type": "execute_result"
    }
   ],
   "source": [
    "train.head()"
   ]
  },
  {
   "cell_type": "code",
   "execution_count": 123,
   "metadata": {},
   "outputs": [
    {
     "data": {
      "text/html": [
       "<div>\n",
       "<style scoped>\n",
       "    .dataframe tbody tr th:only-of-type {\n",
       "        vertical-align: middle;\n",
       "    }\n",
       "\n",
       "    .dataframe tbody tr th {\n",
       "        vertical-align: top;\n",
       "    }\n",
       "\n",
       "    .dataframe thead th {\n",
       "        text-align: right;\n",
       "    }\n",
       "</style>\n",
       "<table border=\"1\" class=\"dataframe\">\n",
       "  <thead>\n",
       "    <tr style=\"text-align: right;\">\n",
       "      <th></th>\n",
       "      <th>Latitude</th>\n",
       "      <th>Longitude</th>\n",
       "      <th>Depth</th>\n",
       "    </tr>\n",
       "  </thead>\n",
       "  <tbody>\n",
       "    <tr>\n",
       "      <th>0</th>\n",
       "      <td>40.3793</td>\n",
       "      <td>25.8718</td>\n",
       "      <td>5.5</td>\n",
       "    </tr>\n",
       "    <tr>\n",
       "      <th>1</th>\n",
       "      <td>34.9900</td>\n",
       "      <td>27.0100</td>\n",
       "      <td>69.0</td>\n",
       "    </tr>\n",
       "    <tr>\n",
       "      <th>2</th>\n",
       "      <td>39.3000</td>\n",
       "      <td>28.0000</td>\n",
       "      <td>10.0</td>\n",
       "    </tr>\n",
       "    <tr>\n",
       "      <th>3</th>\n",
       "      <td>38.8000</td>\n",
       "      <td>23.0000</td>\n",
       "      <td>6.0</td>\n",
       "    </tr>\n",
       "    <tr>\n",
       "      <th>4</th>\n",
       "      <td>37.0743</td>\n",
       "      <td>28.7652</td>\n",
       "      <td>5.0</td>\n",
       "    </tr>\n",
       "  </tbody>\n",
       "</table>\n",
       "</div>"
      ],
      "text/plain": [
       "   Latitude  Longitude  Depth\n",
       "0   40.3793    25.8718    5.5\n",
       "1   34.9900    27.0100   69.0\n",
       "2   39.3000    28.0000   10.0\n",
       "3   38.8000    23.0000    6.0\n",
       "4   37.0743    28.7652    5.0"
      ]
     },
     "execution_count": 123,
     "metadata": {},
     "output_type": "execute_result"
    }
   ],
   "source": [
    "test.head()"
   ]
  },
  {
   "cell_type": "code",
   "execution_count": 124,
   "metadata": {},
   "outputs": [
    {
     "data": {
      "text/html": [
       "<div>\n",
       "<style scoped>\n",
       "    .dataframe tbody tr th:only-of-type {\n",
       "        vertical-align: middle;\n",
       "    }\n",
       "\n",
       "    .dataframe tbody tr th {\n",
       "        vertical-align: top;\n",
       "    }\n",
       "\n",
       "    .dataframe thead th {\n",
       "        text-align: right;\n",
       "    }\n",
       "</style>\n",
       "<table border=\"1\" class=\"dataframe\">\n",
       "  <thead>\n",
       "    <tr style=\"text-align: right;\">\n",
       "      <th></th>\n",
       "      <th>Latitude</th>\n",
       "      <th>Longitude</th>\n",
       "      <th>Depth</th>\n",
       "    </tr>\n",
       "  </thead>\n",
       "  <tbody>\n",
       "    <tr>\n",
       "      <th>0</th>\n",
       "      <td>40.3212</td>\n",
       "      <td>25.8650</td>\n",
       "      <td>13.1</td>\n",
       "    </tr>\n",
       "    <tr>\n",
       "      <th>1</th>\n",
       "      <td>38.0610</td>\n",
       "      <td>24.0573</td>\n",
       "      <td>15.6</td>\n",
       "    </tr>\n",
       "    <tr>\n",
       "      <th>2</th>\n",
       "      <td>38.2778</td>\n",
       "      <td>27.9448</td>\n",
       "      <td>9.8</td>\n",
       "    </tr>\n",
       "    <tr>\n",
       "      <th>3</th>\n",
       "      <td>36.3077</td>\n",
       "      <td>26.7273</td>\n",
       "      <td>130.5</td>\n",
       "    </tr>\n",
       "    <tr>\n",
       "      <th>4</th>\n",
       "      <td>38.6090</td>\n",
       "      <td>43.1857</td>\n",
       "      <td>3.1</td>\n",
       "    </tr>\n",
       "  </tbody>\n",
       "</table>\n",
       "</div>"
      ],
      "text/plain": [
       "   Latitude  Longitude  Depth\n",
       "0   40.3212    25.8650   13.1\n",
       "1   38.0610    24.0573   15.6\n",
       "2   38.2778    27.9448    9.8\n",
       "3   36.3077    26.7273  130.5\n",
       "4   38.6090    43.1857    3.1"
      ]
     },
     "execution_count": 124,
     "metadata": {},
     "output_type": "execute_result"
    }
   ],
   "source": [
    "train_data.head()"
   ]
  },
  {
   "cell_type": "code",
   "execution_count": 125,
   "metadata": {},
   "outputs": [
    {
     "data": {
      "text/html": [
       "<div>\n",
       "<style scoped>\n",
       "    .dataframe tbody tr th:only-of-type {\n",
       "        vertical-align: middle;\n",
       "    }\n",
       "\n",
       "    .dataframe tbody tr th {\n",
       "        vertical-align: top;\n",
       "    }\n",
       "\n",
       "    .dataframe thead th {\n",
       "        text-align: right;\n",
       "    }\n",
       "</style>\n",
       "<table border=\"1\" class=\"dataframe\">\n",
       "  <thead>\n",
       "    <tr style=\"text-align: right;\">\n",
       "      <th></th>\n",
       "      <th>Latitude</th>\n",
       "      <th>Longitude</th>\n",
       "      <th>Depth</th>\n",
       "      <th>Magnitude</th>\n",
       "      <th>Degree</th>\n",
       "    </tr>\n",
       "  </thead>\n",
       "  <tbody>\n",
       "    <tr>\n",
       "      <th>0</th>\n",
       "      <td>40.3793</td>\n",
       "      <td>25.8718</td>\n",
       "      <td>5.5</td>\n",
       "      <td>3.7</td>\n",
       "      <td>Moderate</td>\n",
       "    </tr>\n",
       "    <tr>\n",
       "      <th>1</th>\n",
       "      <td>34.9900</td>\n",
       "      <td>27.0100</td>\n",
       "      <td>69.0</td>\n",
       "      <td>4.7</td>\n",
       "      <td>Medium</td>\n",
       "    </tr>\n",
       "    <tr>\n",
       "      <th>2</th>\n",
       "      <td>39.3000</td>\n",
       "      <td>28.0000</td>\n",
       "      <td>10.0</td>\n",
       "      <td>4.3</td>\n",
       "      <td>Moderate</td>\n",
       "    </tr>\n",
       "    <tr>\n",
       "      <th>3</th>\n",
       "      <td>38.8000</td>\n",
       "      <td>23.0000</td>\n",
       "      <td>6.0</td>\n",
       "      <td>5.5</td>\n",
       "      <td>Great</td>\n",
       "    </tr>\n",
       "    <tr>\n",
       "      <th>4</th>\n",
       "      <td>37.0743</td>\n",
       "      <td>28.7652</td>\n",
       "      <td>5.0</td>\n",
       "      <td>3.7</td>\n",
       "      <td>Moderate</td>\n",
       "    </tr>\n",
       "  </tbody>\n",
       "</table>\n",
       "</div>"
      ],
      "text/plain": [
       "   Latitude  Longitude  Depth  Magnitude    Degree\n",
       "0   40.3793    25.8718    5.5        3.7  Moderate\n",
       "1   34.9900    27.0100   69.0        4.7    Medium\n",
       "2   39.3000    28.0000   10.0        4.3  Moderate\n",
       "3   38.8000    23.0000    6.0        5.5     Great\n",
       "4   37.0743    28.7652    5.0        3.7  Moderate"
      ]
     },
     "execution_count": 125,
     "metadata": {},
     "output_type": "execute_result"
    }
   ],
   "source": [
    "test_test.head()"
   ]
  },
  {
   "cell_type": "markdown",
   "metadata": {},
   "source": [
    "## RANDOM FOREST"
   ]
  },
  {
   "cell_type": "code",
   "execution_count": 134,
   "metadata": {},
   "outputs": [
    {
     "name": "stdout",
     "output_type": "stream",
     "text": [
      "Score: 0.5948\n"
     ]
    }
   ],
   "source": [
    "from sklearn.ensemble import RandomForestClassifier\n",
    "\n",
    "rf = RandomForestClassifier(criterion='gini', \n",
    "                             n_estimators=360,\n",
    "                             max_features='auto',\n",
    "                             oob_score=True,\n",
    "                             random_state=1,\n",
    "                             n_jobs=-1)\n",
    "rf.fit(train_data, target)\n",
    "print(\"Score: %.4f\" % rf.oob_score_)"
   ]
  },
  {
   "cell_type": "code",
   "execution_count": 139,
   "metadata": {},
   "outputs": [],
   "source": [
    "# Prediction\n",
    "predictions = rf.predict(test)\n",
    "predictions = pd.DataFrame(predictions, columns=['Predicted Degree'])\n",
    "# Derece - Degree\n",
    "predictions = pd.concat((test_test.iloc[:, 4], predictions), axis = 1)\n",
    "predictions = pd.concat((test_test.iloc[:, 3], predictions), axis = 1)\n",
    "\n",
    "predictions.to_csv('result.csv', sep=\"-\", index = False)"
   ]
  },
  {
   "cell_type": "code",
   "execution_count": 140,
   "metadata": {},
   "outputs": [],
   "source": [
    "predictionResult = pd.read_csv('/home/iremnazcay/fastai/courses/ml1/result.csv')"
   ]
  },
  {
   "cell_type": "code",
   "execution_count": 141,
   "metadata": {},
   "outputs": [
    {
     "data": {
      "text/html": [
       "<div>\n",
       "<style scoped>\n",
       "    .dataframe tbody tr th:only-of-type {\n",
       "        vertical-align: middle;\n",
       "    }\n",
       "\n",
       "    .dataframe tbody tr th {\n",
       "        vertical-align: top;\n",
       "    }\n",
       "\n",
       "    .dataframe thead th {\n",
       "        text-align: right;\n",
       "    }\n",
       "</style>\n",
       "<table border=\"1\" class=\"dataframe\">\n",
       "  <thead>\n",
       "    <tr style=\"text-align: right;\">\n",
       "      <th></th>\n",
       "      <th>Magnitude-Degree-Predicted Degree</th>\n",
       "    </tr>\n",
       "  </thead>\n",
       "  <tbody>\n",
       "    <tr>\n",
       "      <th>0</th>\n",
       "      <td>3.7-Moderate-Moderate</td>\n",
       "    </tr>\n",
       "    <tr>\n",
       "      <th>1</th>\n",
       "      <td>4.7-Medium-Medium</td>\n",
       "    </tr>\n",
       "    <tr>\n",
       "      <th>2</th>\n",
       "      <td>4.3-Moderate-Moderate</td>\n",
       "    </tr>\n",
       "    <tr>\n",
       "      <th>3</th>\n",
       "      <td>5.5-Great-Medium</td>\n",
       "    </tr>\n",
       "    <tr>\n",
       "      <th>4</th>\n",
       "      <td>3.7-Moderate-Moderate</td>\n",
       "    </tr>\n",
       "  </tbody>\n",
       "</table>\n",
       "</div>"
      ],
      "text/plain": [
       "  Magnitude-Degree-Predicted Degree\n",
       "0             3.7-Moderate-Moderate\n",
       "1                 4.7-Medium-Medium\n",
       "2             4.3-Moderate-Moderate\n",
       "3                  5.5-Great-Medium\n",
       "4             3.7-Moderate-Moderate"
      ]
     },
     "execution_count": 141,
     "metadata": {},
     "output_type": "execute_result"
    }
   ],
   "source": [
    "predictionResult.head()"
   ]
  },
  {
   "cell_type": "markdown",
   "metadata": {},
   "source": [
    "## Performance Metrics for Classification"
   ]
  },
  {
   "cell_type": "markdown",
   "metadata": {},
   "source": [
    "##### Confusion Matrix"
   ]
  },
  {
   "cell_type": "code",
   "execution_count": 142,
   "metadata": {},
   "outputs": [
    {
     "data": {
      "text/plain": [
       "array([[  4,  48,  20,  14,   1],\n",
       "       [  9, 478, 239, 112,   1],\n",
       "       [  4, 192, 942, 232,   0],\n",
       "       [  1,  73, 378, 665,   1],\n",
       "       [  0,   4,   1,   0,   0]])"
      ]
     },
     "execution_count": 142,
     "metadata": {},
     "output_type": "execute_result"
    }
   ],
   "source": [
    "from sklearn.metrics import confusion_matrix\n",
    "\n",
    "confusion_matrix(test_test.iloc[:, 4], rf.predict(test))\n",
    "\n",
    "\n",
    "#  Derece\n",
    "# Small       1118\n",
    "# Moderate    1370\n",
    "# Medium       839\n",
    "# Great         87\n",
    "# Super          5\n",
    "\n",
    "# Great, Medium, Modarate, Small, Super"
   ]
  },
  {
   "cell_type": "code",
   "execution_count": 143,
   "metadata": {},
   "outputs": [],
   "source": [
    "y_actu = pd.Series(test_test.iloc[:, 4], name='Actual')\n",
    "y_pred = pd.Series( rf.predict(test), name='Predicted')\n",
    "df_confusion = pd.crosstab(y_actu, y_pred)"
   ]
  },
  {
   "cell_type": "code",
   "execution_count": 144,
   "metadata": {},
   "outputs": [
    {
     "data": {
      "text/html": [
       "<div>\n",
       "<style scoped>\n",
       "    .dataframe tbody tr th:only-of-type {\n",
       "        vertical-align: middle;\n",
       "    }\n",
       "\n",
       "    .dataframe tbody tr th {\n",
       "        vertical-align: top;\n",
       "    }\n",
       "\n",
       "    .dataframe thead th {\n",
       "        text-align: right;\n",
       "    }\n",
       "</style>\n",
       "<table border=\"1\" class=\"dataframe\">\n",
       "  <thead>\n",
       "    <tr style=\"text-align: right;\">\n",
       "      <th>Predicted</th>\n",
       "      <th>Great</th>\n",
       "      <th>Medium</th>\n",
       "      <th>Moderate</th>\n",
       "      <th>Small</th>\n",
       "      <th>Super</th>\n",
       "      <th>All</th>\n",
       "    </tr>\n",
       "    <tr>\n",
       "      <th>Actual</th>\n",
       "      <th></th>\n",
       "      <th></th>\n",
       "      <th></th>\n",
       "      <th></th>\n",
       "      <th></th>\n",
       "      <th></th>\n",
       "    </tr>\n",
       "  </thead>\n",
       "  <tbody>\n",
       "    <tr>\n",
       "      <th>Small</th>\n",
       "      <td>1</td>\n",
       "      <td>73</td>\n",
       "      <td>378</td>\n",
       "      <td>665</td>\n",
       "      <td>1</td>\n",
       "      <td>87</td>\n",
       "    </tr>\n",
       "    <tr>\n",
       "      <th>Moderate</th>\n",
       "      <td>4</td>\n",
       "      <td>192</td>\n",
       "      <td>942</td>\n",
       "      <td>232</td>\n",
       "      <td>0</td>\n",
       "      <td>1118</td>\n",
       "    </tr>\n",
       "    <tr>\n",
       "      <th>Medium</th>\n",
       "      <td>9</td>\n",
       "      <td>478</td>\n",
       "      <td>239</td>\n",
       "      <td>112</td>\n",
       "      <td>1</td>\n",
       "      <td>1370</td>\n",
       "    </tr>\n",
       "    <tr>\n",
       "      <th>Great</th>\n",
       "      <td>4</td>\n",
       "      <td>48</td>\n",
       "      <td>20</td>\n",
       "      <td>14</td>\n",
       "      <td>1</td>\n",
       "      <td>839</td>\n",
       "    </tr>\n",
       "    <tr>\n",
       "      <th>Super</th>\n",
       "      <td>0</td>\n",
       "      <td>4</td>\n",
       "      <td>1</td>\n",
       "      <td>0</td>\n",
       "      <td>0</td>\n",
       "      <td>5</td>\n",
       "    </tr>\n",
       "    <tr>\n",
       "      <th>All</th>\n",
       "      <td>18</td>\n",
       "      <td>795</td>\n",
       "      <td>1580</td>\n",
       "      <td>1023</td>\n",
       "      <td>3</td>\n",
       "      <td>3419</td>\n",
       "    </tr>\n",
       "  </tbody>\n",
       "</table>\n",
       "</div>"
      ],
      "text/plain": [
       "Predicted  Great  Medium  Moderate  Small  Super   All\n",
       "Actual                                                \n",
       "Small          1      73       378    665      1    87\n",
       "Moderate       4     192       942    232      0  1118\n",
       "Medium         9     478       239    112      1  1370\n",
       "Great          4      48        20     14      1   839\n",
       "Super          0       4         1      0      0     5\n",
       "All           18     795      1580   1023      3  3419"
      ]
     },
     "execution_count": 144,
     "metadata": {},
     "output_type": "execute_result"
    }
   ],
   "source": [
    "df_confusion = pd.crosstab(y_actu,y_pred ,rownames=['Actual'], colnames=['Predicted'], margins=True)\n",
    "df_confusion"
   ]
  },
  {
   "cell_type": "code",
   "execution_count": 145,
   "metadata": {},
   "outputs": [],
   "source": [
    "def plot_confusion_matrix(cm, target_names, title='Confusion matrix',  cmap=None, normalize=True):\n",
    "    \n",
    "    import matplotlib.pyplot as plt\n",
    "    import numpy as np\n",
    "    import itertools\n",
    "\n",
    "    if cmap is None:\n",
    "        cmap = plt.get_cmap('Blues')\n",
    "\n",
    "    plt.figure(figsize=(8, 6))\n",
    "    plt.imshow(cm, interpolation='nearest', cmap=cmap)\n",
    "    plt.title(title)\n",
    "    plt.colorbar()\n",
    "\n",
    "    if target_names is not None:\n",
    "        tick_marks = np.arange(len(target_names))\n",
    "        plt.xticks(tick_marks, target_names, rotation=45)\n",
    "        plt.yticks(tick_marks, target_names)\n",
    "\n",
    "    if normalize:\n",
    "        cm = cm.astype('float') / cm.sum(axis=1)[:, np.newaxis]\n",
    "\n",
    "\n",
    "    thresh = cm.max() / 1.5 if normalize else cm.max() / 2\n",
    "    for i, j in itertools.product(range(cm.shape[0]), range(cm.shape[1])):\n",
    "        if normalize:\n",
    "            plt.text(j, i, \"{:0.4f}\".format(cm[i, j]),\n",
    "                     horizontalalignment=\"center\",\n",
    "                     color=\"white\" if cm[i, j] > thresh else \"black\")\n",
    "        else:\n",
    "            plt.text(j, i, \"{:,}\".format(cm[i, j]),\n",
    "                     horizontalalignment=\"center\",\n",
    "                     color=\"white\" if cm[i, j] > thresh else \"black\")\n",
    "\n",
    "\n",
    "    plt.tight_layout()\n",
    "    plt.ylabel('True label')\n",
    "    plt.show()"
   ]
  },
  {
   "cell_type": "code",
   "execution_count": 147,
   "metadata": {},
   "outputs": [
    {
     "data": {
      "image/png": "[encoded data removed]",
      "text/plain": [
       "<Figure size 576x432 with 2 Axes>"
      ]
     },
     "metadata": {},
     "output_type": "display_data"
    }
   ],
   "source": [
    "plot_confusion_matrix(cm           =  np.array([[   665,    378,   73,  1,    1],\n",
    "                                                 [   232,   942,  192,  4,    0],\n",
    "                                                 [   112,   239, 478, 9,    1],\n",
    "                                                 [   14,    20,  48,  4,    1],\n",
    "                                                [   0,    1,    4,   0,    0]]),\n",
    "                      \n",
    "                      normalize    = False,\n",
    "                      target_names = ['Small', 'Moderate','Medium','Great','Super'],\n",
    "                      title        = \"Confusion Matrix\")\n",
    "\n",
    "# Great, Medium, Modarate, Small, Super\n"
   ]
  },
  {
   "cell_type": "code",
   "execution_count": 148,
   "metadata": {},
   "outputs": [
    {
     "data": {
      "image/png": "[encoded data removed]",
      "text/plain": [
       "<Figure size 576x432 with 2 Axes>"
      ]
     },
     "metadata": {},
     "output_type": "display_data"
    }
   ],
   "source": [
    "plot_confusion_matrix(cm            =  np.array([[   665,    378,   73,  1,    1],\n",
    "                                                 [   232,   942,  192,  4,    0],\n",
    "                                                 [   112,   239, 478, 9,    1],\n",
    "                                                 [   14,    20,  48,  4,    1],\n",
    "                                                [   0,    1,    4,   0,    0]]),\n",
    "                      normalize    = True,\n",
    "                      target_names = ['Small', 'Moderate','Medium','Great','Super'],\n",
    "                      title        = \"Confusion Matrix, Normalized\")"
   ]
  },
  {
   "cell_type": "markdown",
   "metadata": {},
   "source": [
    "##### Accuracy"
   ]
  },
  {
   "cell_type": "code",
   "execution_count": 150,
   "metadata": {},
   "outputs": [
    {
     "name": "stdout",
     "output_type": "stream",
     "text": [
      "Accuracy: 0.610997\n"
     ]
    }
   ],
   "source": [
    "from sklearn.metrics import accuracy_score\n",
    "\n",
    "accuracy = accuracy_score(test_test.iloc[:, 4], rf.predict(test))\n",
    "print('Accuracy: %f' % accuracy)"
   ]
  },
  {
   "cell_type": "markdown",
   "metadata": {},
   "source": [
    "##### Recall"
   ]
  },
  {
   "cell_type": "code",
   "execution_count": 151,
   "metadata": {},
   "outputs": [
    {
     "name": "stdout",
     "output_type": "stream",
     "text": [
      "Recall: 0.610997\n"
     ]
    },
    {
     "name": "stderr",
     "output_type": "stream",
     "text": [
      "/home/iremnazcay/anaconda3/envs/my_python/lib/python3.7/site-packages/sklearn/metrics/classification.py:1259: UserWarning: Note that pos_label (set to 'positive') is ignored when average != 'binary' (got 'micro'). You may use labels=[pos_label] to specify a single positive class.\n",
      "  % (pos_label, average), UserWarning)\n"
     ]
    }
   ],
   "source": [
    "from sklearn.metrics import recall_score\n",
    "\n",
    "# r: tp / (tp + fn)\n",
    "recall=recall_score(test_test.iloc[:, 4], rf.predict(test), pos_label='positive', average='micro')\n",
    "print('Recall: %f' % recall)"
   ]
  },
  {
   "cell_type": "markdown",
   "metadata": {},
   "source": [
    "##### Precision"
   ]
  },
  {
   "cell_type": "code",
   "execution_count": 152,
   "metadata": {},
   "outputs": [
    {
     "name": "stdout",
     "output_type": "stream",
     "text": [
      "Precision: 0.610997\n"
     ]
    },
    {
     "name": "stderr",
     "output_type": "stream",
     "text": [
      "/home/iremnazcay/anaconda3/envs/my_python/lib/python3.7/site-packages/sklearn/metrics/classification.py:1259: UserWarning: Note that pos_label (set to 'positive') is ignored when average != 'binary' (got 'micro'). You may use labels=[pos_label] to specify a single positive class.\n",
      "  % (pos_label, average), UserWarning)\n"
     ]
    }
   ],
   "source": [
    "from sklearn.metrics import precision_score\n",
    "\n",
    "# p: tp / (tp + fp)\n",
    "precision=precision_score(test_test.iloc[:, 4], rf.predict(test),pos_label='positive', average='micro')\n",
    "print('Precision: %f' % precision)"
   ]
  },
  {
   "cell_type": "markdown",
   "metadata": {},
   "source": [
    "##### F1 score"
   ]
  },
  {
   "cell_type": "code",
   "execution_count": 153,
   "metadata": {},
   "outputs": [
    {
     "name": "stdout",
     "output_type": "stream",
     "text": [
      "F1 score: 0.610997\n"
     ]
    },
    {
     "name": "stderr",
     "output_type": "stream",
     "text": [
      "/home/iremnazcay/anaconda3/envs/my_python/lib/python3.7/site-packages/sklearn/metrics/classification.py:1259: UserWarning: Note that pos_label (set to 'positive') is ignored when average != 'binary' (got 'micro'). You may use labels=[pos_label] to specify a single positive class.\n",
      "  % (pos_label, average), UserWarning)\n"
     ]
    }
   ],
   "source": [
    "from sklearn.metrics import f1_score\n",
    "\n",
    "# f1: 2 tp / (2 tp + fp + fn)\n",
    "# f1: 2*(p*r) / p+r\n",
    "f1 = f1_score(test_test.iloc[:, 4], rf.predict(test),pos_label='positive', average='micro')\n",
    "print('F1 score: %f' % f1)"
   ]
  }
 ],
 "metadata": {
  "kernelspec": {
   "display_name": "Python 3",
   "language": "python",
   "name": "python3"
  },
  "language_info": {
   "codemirror_mode": {
    "name": "ipython",
    "version": 3
   },
   "file_extension": ".py",
   "mimetype": "text/x-python",
   "name": "python",
   "nbconvert_exporter": "python",
   "pygments_lexer": "ipython3",
   "version": "3.7.3"
  }
 },
 "nbformat": 4,
 "nbformat_minor": 2
}
